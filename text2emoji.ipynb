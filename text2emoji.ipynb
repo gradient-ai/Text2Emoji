{
 "cells": [
  {
   "cell_type": "code",
   "execution_count": 1,
   "id": "b7e7b6cd-8fd1-46f1-9712-d759fbee7773",
   "metadata": {
    "execution": {
     "iopub.execute_input": "2022-10-06T01:33:35.094407Z",
     "iopub.status.busy": "2022-10-06T01:33:35.093777Z",
     "iopub.status.idle": "2022-10-06T01:34:09.072725Z",
     "shell.execute_reply": "2022-10-06T01:34:09.072096Z",
     "shell.execute_reply.started": "2022-10-06T01:33:35.094318Z"
    }
   },
   "outputs": [
    {
     "name": "stdout",
     "output_type": "stream",
     "text": [
      "Collecting flair\n",
      "  Downloading flair-0.11.3-py3-none-any.whl (401 kB)\n",
      "\u001b[2K     \u001b[90m━━━━━━━━━━━━━━━━━━━━━━━━━━━━━━━━━━━━━━\u001b[0m \u001b[32m401.9/401.9 kB\u001b[0m \u001b[31m39.5 MB/s\u001b[0m eta \u001b[36m0:00:00\u001b[0m\n",
      "\u001b[?25hRequirement already satisfied: scikit-learn>=0.21.3 in /usr/local/lib/python3.9/dist-packages (from flair) (1.1.1)\n",
      "Collecting sentencepiece==0.1.95\n",
      "  Downloading sentencepiece-0.1.95-cp39-cp39-manylinux2014_x86_64.whl (1.2 MB)\n",
      "\u001b[2K     \u001b[90m━━━━━━━━━━━━━━━━━━━━━━━━━━━━━━━━━━━━━━━━\u001b[0m \u001b[32m1.2/1.2 MB\u001b[0m \u001b[31m99.8 MB/s\u001b[0m eta \u001b[36m0:00:00\u001b[0m\n",
      "\u001b[?25hCollecting more-itertools\n",
      "  Downloading more_itertools-8.14.0-py3-none-any.whl (52 kB)\n",
      "\u001b[2K     \u001b[90m━━━━━━━━━━━━━━━━━━━━━━━━━━━━━━━━━━━━━━━━\u001b[0m \u001b[32m52.2/52.2 kB\u001b[0m \u001b[31m22.5 MB/s\u001b[0m eta \u001b[36m0:00:00\u001b[0m\n",
      "\u001b[?25hRequirement already satisfied: tqdm>=4.26.0 in /usr/local/lib/python3.9/dist-packages (from flair) (4.64.0)\n",
      "Requirement already satisfied: matplotlib>=2.2.3 in /usr/local/lib/python3.9/dist-packages (from flair) (3.5.2)\n",
      "Collecting mpld3==0.3\n",
      "  Downloading mpld3-0.3.tar.gz (788 kB)\n",
      "\u001b[2K     \u001b[90m━━━━━━━━━━━━━━━━━━━━━━━━━━━━━━━━━━━━━\u001b[0m \u001b[32m788.5/788.5 kB\u001b[0m \u001b[31m106.7 MB/s\u001b[0m eta \u001b[36m0:00:00\u001b[0m\n",
      "\u001b[?25h  Preparing metadata (setup.py) ... \u001b[?25ldone\n",
      "\u001b[?25hCollecting gensim>=3.4.0\n",
      "  Downloading gensim-4.2.0-cp39-cp39-manylinux_2_12_x86_64.manylinux2010_x86_64.whl (24.0 MB)\n",
      "\u001b[2K     \u001b[90m━━━━━━━━━━━━━━━━━━━━━━━━━━━━━━━━━━━━━━━━\u001b[0m \u001b[32m24.0/24.0 MB\u001b[0m \u001b[31m79.6 MB/s\u001b[0m eta \u001b[36m0:00:00\u001b[0m00:01\u001b[0m00:01\u001b[0m\n",
      "\u001b[?25hCollecting tabulate\n",
      "  Downloading tabulate-0.8.10-py3-none-any.whl (29 kB)\n",
      "Requirement already satisfied: regex in /usr/local/lib/python3.9/dist-packages (from flair) (2022.7.9)\n",
      "Requirement already satisfied: huggingface-hub in /usr/local/lib/python3.9/dist-packages (from flair) (0.8.1)\n",
      "Collecting conllu>=4.0\n",
      "  Downloading conllu-4.5.2-py2.py3-none-any.whl (16 kB)\n",
      "Collecting wikipedia-api\n",
      "  Downloading Wikipedia-API-0.5.4.tar.gz (18 kB)\n",
      "  Preparing metadata (setup.py) ... \u001b[?25ldone\n",
      "\u001b[?25hCollecting pptree\n",
      "  Downloading pptree-3.1.tar.gz (3.0 kB)\n",
      "  Preparing metadata (setup.py) ... \u001b[?25ldone\n",
      "\u001b[?25hRequirement already satisfied: torch!=1.8,>=1.5.0 in /usr/local/lib/python3.9/dist-packages (from flair) (1.12.0+cu116)\n",
      "Requirement already satisfied: lxml in /usr/lib/python3/dist-packages (from flair) (4.5.0)\n",
      "Collecting janome\n",
      "  Downloading Janome-0.4.2-py2.py3-none-any.whl (19.7 MB)\n",
      "\u001b[2K     \u001b[90m━━━━━━━━━━━━━━━━━━━━━━━━━━━━━━━━━━━━━━━━\u001b[0m \u001b[32m19.7/19.7 MB\u001b[0m \u001b[31m92.3 MB/s\u001b[0m eta \u001b[36m0:00:00\u001b[0m00:01\u001b[0m00:01\u001b[0m\n",
      "\u001b[?25hCollecting deprecated>=1.2.4\n",
      "  Downloading Deprecated-1.2.13-py2.py3-none-any.whl (9.6 kB)\n",
      "Requirement already satisfied: python-dateutil>=2.6.1 in /usr/local/lib/python3.9/dist-packages (from flair) (2.8.2)\n",
      "Collecting hyperopt>=0.2.7\n",
      "  Downloading hyperopt-0.2.7-py2.py3-none-any.whl (1.6 MB)\n",
      "\u001b[2K     \u001b[90m━━━━━━━━━━━━━━━━━━━━━━━━━━━━━━━━━━━━━━━━\u001b[0m \u001b[32m1.6/1.6 MB\u001b[0m \u001b[31m131.4 MB/s\u001b[0m eta \u001b[36m0:00:00\u001b[0m\n",
      "\u001b[?25hCollecting konoha<5.0.0,>=4.0.0\n",
      "  Downloading konoha-4.6.5-py3-none-any.whl (20 kB)\n",
      "Collecting segtok>=1.5.7\n",
      "  Downloading segtok-1.5.11-py3-none-any.whl (24 kB)\n",
      "Collecting sqlitedict>=1.6.0\n",
      "  Downloading sqlitedict-2.0.0.tar.gz (46 kB)\n",
      "\u001b[2K     \u001b[90m━━━━━━━━━━━━━━━━━━━━━━━━━━━━━━━━━━━━━━━━\u001b[0m \u001b[32m46.3/46.3 kB\u001b[0m \u001b[31m19.7 MB/s\u001b[0m eta \u001b[36m0:00:00\u001b[0m\n",
      "\u001b[?25h  Preparing metadata (setup.py) ... \u001b[?25ldone\n",
      "\u001b[?25hCollecting ftfy\n",
      "  Downloading ftfy-6.1.1-py3-none-any.whl (53 kB)\n",
      "\u001b[2K     \u001b[90m━━━━━━━━━━━━━━━━━━━━━━━━━━━━━━━━━━━━━━━━\u001b[0m \u001b[32m53.1/53.1 kB\u001b[0m \u001b[31m21.4 MB/s\u001b[0m eta \u001b[36m0:00:00\u001b[0m\n",
      "\u001b[?25hCollecting bpemb>=0.3.2\n",
      "  Downloading bpemb-0.3.4-py3-none-any.whl (19 kB)\n",
      "Collecting gdown==4.4.0\n",
      "  Downloading gdown-4.4.0.tar.gz (14 kB)\n",
      "  Installing build dependencies ... \u001b[?25ldone\n",
      "\u001b[?25h  Getting requirements to build wheel ... \u001b[?25ldone\n",
      "\u001b[?25h  Preparing metadata (pyproject.toml) ... \u001b[?25ldone\n",
      "\u001b[?25hCollecting langdetect\n",
      "  Downloading langdetect-1.0.9.tar.gz (981 kB)\n",
      "\u001b[2K     \u001b[90m━━━━━━━━━━━━━━━━━━━━━━━━━━━━━━━━━━━━━\u001b[0m \u001b[32m981.5/981.5 kB\u001b[0m \u001b[31m115.8 MB/s\u001b[0m eta \u001b[36m0:00:00\u001b[0m\n",
      "\u001b[?25h  Preparing metadata (setup.py) ... \u001b[?25ldone\n",
      "\u001b[?25hRequirement already satisfied: transformers>=4.0.0 in /usr/local/lib/python3.9/dist-packages (from flair) (4.20.1)\n",
      "Requirement already satisfied: requests[socks] in /usr/local/lib/python3.9/dist-packages (from gdown==4.4.0->flair) (2.28.1)\n",
      "Requirement already satisfied: filelock in /usr/local/lib/python3.9/dist-packages (from gdown==4.4.0->flair) (3.7.1)\n",
      "Requirement already satisfied: six in /usr/lib/python3/dist-packages (from gdown==4.4.0->flair) (1.14.0)\n",
      "Requirement already satisfied: beautifulsoup4 in /usr/local/lib/python3.9/dist-packages (from gdown==4.4.0->flair) (4.11.1)\n",
      "Requirement already satisfied: numpy in /usr/local/lib/python3.9/dist-packages (from bpemb>=0.3.2->flair) (1.23.1)\n",
      "Requirement already satisfied: wrapt<2,>=1.10 in /usr/local/lib/python3.9/dist-packages (from deprecated>=1.2.4->flair) (1.14.1)\n",
      "Requirement already satisfied: scipy>=0.18.1 in /usr/local/lib/python3.9/dist-packages (from gensim>=3.4.0->flair) (1.8.1)\n",
      "Requirement already satisfied: smart-open>=1.8.1 in /usr/local/lib/python3.9/dist-packages (from gensim>=3.4.0->flair) (5.2.1)\n",
      "Collecting py4j\n",
      "  Downloading py4j-0.10.9.7-py2.py3-none-any.whl (200 kB)\n",
      "\u001b[2K     \u001b[90m━━━━━━━━━━━━━━━━━━━━━━━━━━━━━━━━━━━━━━\u001b[0m \u001b[32m200.5/200.5 kB\u001b[0m \u001b[31m59.4 MB/s\u001b[0m eta \u001b[36m0:00:00\u001b[0m\n",
      "\u001b[?25hRequirement already satisfied: future in /usr/lib/python3/dist-packages (from hyperopt>=0.2.7->flair) (0.18.2)\n",
      "Requirement already satisfied: cloudpickle in /usr/local/lib/python3.9/dist-packages (from hyperopt>=0.2.7->flair) (2.1.0)\n",
      "Requirement already satisfied: networkx>=2.2 in /usr/local/lib/python3.9/dist-packages (from hyperopt>=0.2.7->flair) (2.8.4)\n",
      "Collecting overrides<4.0.0,>=3.0.0\n",
      "  Downloading overrides-3.1.0.tar.gz (11 kB)\n",
      "  Preparing metadata (setup.py) ... \u001b[?25ldone\n",
      "\u001b[?25hCollecting importlib-metadata<4.0.0,>=3.7.0\n",
      "  Downloading importlib_metadata-3.10.1-py3-none-any.whl (14 kB)\n",
      "Requirement already satisfied: cycler>=0.10 in /usr/local/lib/python3.9/dist-packages (from matplotlib>=2.2.3->flair) (0.11.0)\n",
      "Requirement already satisfied: pillow>=6.2.0 in /usr/local/lib/python3.9/dist-packages (from matplotlib>=2.2.3->flair) (9.2.0)\n",
      "Requirement already satisfied: fonttools>=4.22.0 in /usr/local/lib/python3.9/dist-packages (from matplotlib>=2.2.3->flair) (4.34.4)\n",
      "Requirement already satisfied: pyparsing>=2.2.1 in /usr/local/lib/python3.9/dist-packages (from matplotlib>=2.2.3->flair) (3.0.9)\n",
      "Requirement already satisfied: packaging>=20.0 in /usr/local/lib/python3.9/dist-packages (from matplotlib>=2.2.3->flair) (21.3)\n",
      "Requirement already satisfied: kiwisolver>=1.0.1 in /usr/local/lib/python3.9/dist-packages (from matplotlib>=2.2.3->flair) (1.4.3)\n",
      "Requirement already satisfied: threadpoolctl>=2.0.0 in /usr/local/lib/python3.9/dist-packages (from scikit-learn>=0.21.3->flair) (3.1.0)\n",
      "Requirement already satisfied: joblib>=1.0.0 in /usr/local/lib/python3.9/dist-packages (from scikit-learn>=0.21.3->flair) (1.1.0)\n",
      "Requirement already satisfied: typing-extensions in /usr/local/lib/python3.9/dist-packages (from torch!=1.8,>=1.5.0->flair) (4.3.0)\n",
      "Requirement already satisfied: tokenizers!=0.11.3,<0.13,>=0.11.1 in /usr/local/lib/python3.9/dist-packages (from transformers>=4.0.0->flair) (0.12.1)\n",
      "Requirement already satisfied: pyyaml>=5.1 in /usr/local/lib/python3.9/dist-packages (from transformers>=4.0.0->flair) (5.4.1)\n",
      "Requirement already satisfied: wcwidth>=0.2.5 in /usr/local/lib/python3.9/dist-packages (from ftfy->flair) (0.2.5)\n",
      "Requirement already satisfied: zipp>=0.5 in /usr/local/lib/python3.9/dist-packages (from importlib-metadata<4.0.0,>=3.7.0->konoha<5.0.0,>=4.0.0->flair) (3.8.1)\n",
      "Requirement already satisfied: urllib3<1.27,>=1.21.1 in /usr/local/lib/python3.9/dist-packages (from requests[socks]->gdown==4.4.0->flair) (1.26.10)\n",
      "Requirement already satisfied: idna<4,>=2.5 in /usr/lib/python3/dist-packages (from requests[socks]->gdown==4.4.0->flair) (2.8)\n",
      "Requirement already satisfied: charset-normalizer<3,>=2 in /usr/local/lib/python3.9/dist-packages (from requests[socks]->gdown==4.4.0->flair) (2.1.0)\n",
      "Requirement already satisfied: certifi>=2017.4.17 in /usr/lib/python3/dist-packages (from requests[socks]->gdown==4.4.0->flair) (2019.11.28)\n",
      "Requirement already satisfied: soupsieve>1.2 in /usr/local/lib/python3.9/dist-packages (from beautifulsoup4->gdown==4.4.0->flair) (2.3.2.post1)\n",
      "Requirement already satisfied: PySocks!=1.5.7,>=1.5.6 in /usr/local/lib/python3.9/dist-packages (from requests[socks]->gdown==4.4.0->flair) (1.7.1)\n",
      "Building wheels for collected packages: gdown, mpld3, sqlitedict, langdetect, pptree, wikipedia-api, overrides\n",
      "  Building wheel for gdown (pyproject.toml) ... \u001b[?25ldone\n",
      "\u001b[?25h  Created wheel for gdown: filename=gdown-4.4.0-py3-none-any.whl size=14761 sha256=b1d36582b22f8705f5082ec22d31460779e365c770271c609fb1c15b24b3ef78\n",
      "  Stored in directory: /root/.cache/pip/wheels/7d/37/b6/b2a79c75e898c0b8e46ff255102602d7159a10d9af0d80641a\n",
      "  Building wheel for mpld3 (setup.py) ... \u001b[?25ldone\n",
      "\u001b[?25h  Created wheel for mpld3: filename=mpld3-0.3-py3-none-any.whl size=116686 sha256=f3dd6f2b295a6eb8a9a2f4b4366564278e0b3818d8c988a9fecc68e8cd3f214f\n",
      "  Stored in directory: /root/.cache/pip/wheels/a6/f4/e6/e40ff9021f6b3854af70fa8ea004f5ab95672817462df08fed\n",
      "  Building wheel for sqlitedict (setup.py) ... \u001b[?25ldone\n",
      "\u001b[?25h  Created wheel for sqlitedict: filename=sqlitedict-2.0.0-py3-none-any.whl size=15733 sha256=16a9cbc9b79199fc8576f89305d35316ad236c950ad5ea4269ec965cdc056285\n",
      "  Stored in directory: /root/.cache/pip/wheels/48/a5/80/fa89dc26af0f4c280b500f5529978552379c1ce8907e0a281c\n",
      "  Building wheel for langdetect (setup.py) ... \u001b[?25ldone\n",
      "\u001b[?25h  Created wheel for langdetect: filename=langdetect-1.0.9-py3-none-any.whl size=993225 sha256=202c11d875a321aad4b7de21111a780bdf88d1080713c5caada5b18e67841836\n",
      "  Stored in directory: /root/.cache/pip/wheels/d1/c1/d9/7e068de779d863bc8f8fc9467d85e25cfe47fa5051fff1a1bb\n",
      "  Building wheel for pptree (setup.py) ... \u001b[?25ldone\n",
      "\u001b[?25h  Created wheel for pptree: filename=pptree-3.1-py3-none-any.whl size=4608 sha256=aae2e333bbcd3643472842a6ad1a9da88d96d290650d500d18ed1df98a34656d\n",
      "  Stored in directory: /root/.cache/pip/wheels/52/0e/51/514e690004ea9713bc3fdb678d5e2768fcc597d0c3b6a3abd2\n",
      "  Building wheel for wikipedia-api (setup.py) ... \u001b[?25ldone\n",
      "\u001b[?25h  Created wheel for wikipedia-api: filename=Wikipedia_API-0.5.4-py3-none-any.whl size=13476 sha256=46fb11fcd4b99650d51c329092437fb2df823b266543c07b1b4814b11fa00943\n",
      "  Stored in directory: /root/.cache/pip/wheels/c7/cf/1a/c300428dd51654cdadc921abdff75acaa7cc80b7151a2f0695\n",
      "  Building wheel for overrides (setup.py) ... \u001b[?25ldone\n",
      "\u001b[?25h  Created wheel for overrides: filename=overrides-3.1.0-py3-none-any.whl size=10172 sha256=b8dbabde8b858f3d70da034ed69f9ba8edadc5d8579ced699716f9a3649d55cf\n",
      "  Stored in directory: /root/.cache/pip/wheels/7d/11/0e/73fdcb3d71d97e33c230900efe85923ee9d49515d050503174\n",
      "Successfully built gdown mpld3 sqlitedict langdetect pptree wikipedia-api overrides\n",
      "Installing collected packages: sqlitedict, sentencepiece, py4j, pptree, overrides, mpld3, janome, tabulate, segtok, more-itertools, langdetect, importlib-metadata, ftfy, deprecated, conllu, wikipedia-api, konoha, hyperopt, gensim, gdown, bpemb, flair\n",
      "  Attempting uninstall: sentencepiece\n",
      "    Found existing installation: sentencepiece 0.1.96\n",
      "    Uninstalling sentencepiece-0.1.96:\n",
      "      Successfully uninstalled sentencepiece-0.1.96\n",
      "  Attempting uninstall: importlib-metadata\n",
      "    Found existing installation: importlib-metadata 4.12.0\n",
      "    Uninstalling importlib-metadata-4.12.0:\n",
      "      Successfully uninstalled importlib-metadata-4.12.0\n",
      "  Attempting uninstall: gdown\n",
      "    Found existing installation: gdown 4.5.1\n",
      "    Uninstalling gdown-4.5.1:\n",
      "      Successfully uninstalled gdown-4.5.1\n",
      "\u001b[31mERROR: pip's dependency resolver does not currently take into account all the packages that are installed. This behaviour is the source of the following dependency conflicts.\n",
      "markdown 3.3.7 requires importlib-metadata>=4.4; python_version < \"3.10\", but you have importlib-metadata 3.10.1 which is incompatible.\u001b[0m\u001b[31m\n",
      "\u001b[0mSuccessfully installed bpemb-0.3.4 conllu-4.5.2 deprecated-1.2.13 flair-0.11.3 ftfy-6.1.1 gdown-4.4.0 gensim-4.2.0 hyperopt-0.2.7 importlib-metadata-3.10.1 janome-0.4.2 konoha-4.6.5 langdetect-1.0.9 more-itertools-8.14.0 mpld3-0.3 overrides-3.1.0 pptree-3.1 py4j-0.10.9.7 segtok-1.5.11 sentencepiece-0.1.95 sqlitedict-2.0.0 tabulate-0.8.10 wikipedia-api-0.5.4\n",
      "\u001b[33mWARNING: Running pip as the 'root' user can result in broken permissions and conflicting behaviour with the system package manager. It is recommended to use a virtual environment instead: https://pip.pypa.io/warnings/venv\u001b[0m\u001b[33m\n",
      "\u001b[0mCollecting allennlp==0.9.0\n",
      "  Downloading allennlp-0.9.0-py3-none-any.whl (7.6 MB)\n",
      "\u001b[2K     \u001b[90m━━━━━━━━━━━━━━━━━━━━━━━━━━━━━━━━━━━━━━━━\u001b[0m \u001b[32m7.6/7.6 MB\u001b[0m \u001b[31m81.3 MB/s\u001b[0m eta \u001b[36m0:00:00\u001b[0m:00:01\u001b[0m0:01\u001b[0m\n",
      "\u001b[?25hInstalling collected packages: allennlp\n",
      "Successfully installed allennlp-0.9.0\n",
      "\u001b[33mWARNING: Running pip as the 'root' user can result in broken permissions and conflicting behaviour with the system package manager. It is recommended to use a virtual environment instead: https://pip.pypa.io/warnings/venv\u001b[0m\u001b[33m\n",
      "\u001b[0mRequirement already satisfied: spacy in /usr/local/lib/python3.9/dist-packages (3.4.0)\n",
      "Requirement already satisfied: typer<0.5.0,>=0.3.0 in /usr/local/lib/python3.9/dist-packages (from spacy) (0.4.2)\n",
      "Requirement already satisfied: setuptools in /usr/local/lib/python3.9/dist-packages (from spacy) (63.1.0)\n",
      "Requirement already satisfied: packaging>=20.0 in /usr/local/lib/python3.9/dist-packages (from spacy) (21.3)\n",
      "Requirement already satisfied: preshed<3.1.0,>=3.0.2 in /usr/local/lib/python3.9/dist-packages (from spacy) (3.0.6)\n",
      "Requirement already satisfied: spacy-loggers<2.0.0,>=1.0.0 in /usr/local/lib/python3.9/dist-packages (from spacy) (1.0.2)\n",
      "Requirement already satisfied: pydantic!=1.8,!=1.8.1,<1.10.0,>=1.7.4 in /usr/local/lib/python3.9/dist-packages (from spacy) (1.9.1)\n",
      "Requirement already satisfied: murmurhash<1.1.0,>=0.28.0 in /usr/local/lib/python3.9/dist-packages (from spacy) (1.0.7)\n",
      "Requirement already satisfied: cymem<2.1.0,>=2.0.2 in /usr/local/lib/python3.9/dist-packages (from spacy) (2.0.6)\n",
      "Requirement already satisfied: thinc<8.2.0,>=8.1.0 in /usr/local/lib/python3.9/dist-packages (from spacy) (8.1.0)\n",
      "Requirement already satisfied: catalogue<2.1.0,>=2.0.6 in /usr/local/lib/python3.9/dist-packages (from spacy) (2.0.7)\n",
      "Requirement already satisfied: spacy-legacy<3.1.0,>=3.0.9 in /usr/local/lib/python3.9/dist-packages (from spacy) (3.0.9)\n",
      "Requirement already satisfied: langcodes<4.0.0,>=3.2.0 in /usr/local/lib/python3.9/dist-packages (from spacy) (3.3.0)\n",
      "Requirement already satisfied: wasabi<1.1.0,>=0.9.1 in /usr/local/lib/python3.9/dist-packages (from spacy) (0.9.1)\n",
      "Requirement already satisfied: requests<3.0.0,>=2.13.0 in /usr/local/lib/python3.9/dist-packages (from spacy) (2.28.1)\n",
      "Requirement already satisfied: numpy>=1.15.0 in /usr/local/lib/python3.9/dist-packages (from spacy) (1.23.1)\n",
      "Requirement already satisfied: srsly<3.0.0,>=2.4.3 in /usr/local/lib/python3.9/dist-packages (from spacy) (2.4.3)\n",
      "Requirement already satisfied: pathy>=0.3.5 in /usr/local/lib/python3.9/dist-packages (from spacy) (0.6.2)\n",
      "Requirement already satisfied: tqdm<5.0.0,>=4.38.0 in /usr/local/lib/python3.9/dist-packages (from spacy) (4.64.0)\n",
      "Requirement already satisfied: jinja2 in /usr/local/lib/python3.9/dist-packages (from spacy) (3.1.2)\n",
      "Requirement already satisfied: pyparsing!=3.0.5,>=2.0.2 in /usr/local/lib/python3.9/dist-packages (from packaging>=20.0->spacy) (3.0.9)\n",
      "Requirement already satisfied: smart-open<6.0.0,>=5.2.1 in /usr/local/lib/python3.9/dist-packages (from pathy>=0.3.5->spacy) (5.2.1)\n",
      "Requirement already satisfied: typing-extensions>=3.7.4.3 in /usr/local/lib/python3.9/dist-packages (from pydantic!=1.8,!=1.8.1,<1.10.0,>=1.7.4->spacy) (4.3.0)\n",
      "Requirement already satisfied: idna<4,>=2.5 in /usr/lib/python3/dist-packages (from requests<3.0.0,>=2.13.0->spacy) (2.8)\n",
      "Requirement already satisfied: certifi>=2017.4.17 in /usr/lib/python3/dist-packages (from requests<3.0.0,>=2.13.0->spacy) (2019.11.28)\n",
      "Requirement already satisfied: charset-normalizer<3,>=2 in /usr/local/lib/python3.9/dist-packages (from requests<3.0.0,>=2.13.0->spacy) (2.1.0)\n",
      "Requirement already satisfied: urllib3<1.27,>=1.21.1 in /usr/local/lib/python3.9/dist-packages (from requests<3.0.0,>=2.13.0->spacy) (1.26.10)\n",
      "Requirement already satisfied: blis<0.8.0,>=0.7.8 in /usr/local/lib/python3.9/dist-packages (from thinc<8.2.0,>=8.1.0->spacy) (0.7.8)\n",
      "Requirement already satisfied: click<9.0.0,>=7.1.1 in /usr/local/lib/python3.9/dist-packages (from typer<0.5.0,>=0.3.0->spacy) (8.1.3)\n",
      "Requirement already satisfied: MarkupSafe>=2.0 in /usr/local/lib/python3.9/dist-packages (from jinja2->spacy) (2.1.1)\n",
      "\u001b[33mWARNING: Running pip as the 'root' user can result in broken permissions and conflicting behaviour with the system package manager. It is recommended to use a virtual environment instead: https://pip.pypa.io/warnings/venv\u001b[0m\u001b[33m\n",
      "\u001b[0mFound existing installation: lxml 4.5.0\n",
      "Uninstalling lxml-4.5.0:\n",
      "  Successfully uninstalled lxml-4.5.0\n",
      "\u001b[33mWARNING: Running pip as the 'root' user can result in broken permissions and conflicting behaviour with the system package manager. It is recommended to use a virtual environment instead: https://pip.pypa.io/warnings/venv\u001b[0m\u001b[33m\n",
      "\u001b[0mCollecting lxml\n",
      "  Downloading lxml-4.9.1-cp39-cp39-manylinux_2_17_x86_64.manylinux2014_x86_64.manylinux_2_24_x86_64.whl (7.0 MB)\n",
      "\u001b[2K     \u001b[90m━━━━━━━━━━━━━━━━━━━━━━━━━━━━━━━━━━━━━━━━\u001b[0m \u001b[32m7.0/7.0 MB\u001b[0m \u001b[31m118.8 MB/s\u001b[0m eta \u001b[36m0:00:00\u001b[0m00:01\u001b[0m\n",
      "\u001b[?25hInstalling collected packages: lxml\n",
      "Successfully installed lxml-4.9.1\n",
      "\u001b[33mWARNING: Running pip as the 'root' user can result in broken permissions and conflicting behaviour with the system package manager. It is recommended to use a virtual environment instead: https://pip.pypa.io/warnings/venv\u001b[0m\u001b[33m\n",
      "\u001b[0m"
     ]
    }
   ],
   "source": [
    "!pip install flair -U\n",
    "!pip install allennlp==0.9.0 --no-deps\n",
    "!pip install spacy\n",
    "!pip uninstall lxml -y\n",
    "!pip install lxml\n"
   ]
  },
  {
   "cell_type": "code",
   "execution_count": 1,
   "id": "c45454e8-dd6a-4e29-a318-0155811f3b35",
   "metadata": {
    "execution": {
     "iopub.execute_input": "2022-10-06T01:37:57.819672Z",
     "iopub.status.busy": "2022-10-06T01:37:57.819116Z",
     "iopub.status.idle": "2022-10-06T01:38:00.960514Z",
     "shell.execute_reply": "2022-10-06T01:38:00.959873Z",
     "shell.execute_reply.started": "2022-10-06T01:37:57.819613Z"
    }
   },
   "outputs": [],
   "source": [
    "import os\n",
    "from flair.embeddings import WordEmbeddings, FlairEmbeddings, DocumentRNNEmbeddings, ELMoEmbeddings\n",
    "from flair.models import TextClassifier\n",
    "from flair.trainers import ModelTrainer\n",
    "from pathlib import Path"
   ]
  },
  {
   "cell_type": "code",
   "execution_count": 2,
   "id": "32d0e185-7591-46e2-93dd-756f2e954f87",
   "metadata": {
    "execution": {
     "iopub.execute_input": "2022-10-06T01:38:00.962307Z",
     "iopub.status.busy": "2022-10-06T01:38:00.961614Z",
     "iopub.status.idle": "2022-10-06T01:38:00.967533Z",
     "shell.execute_reply": "2022-10-06T01:38:00.966979Z",
     "shell.execute_reply.started": "2022-10-06T01:38:00.962285Z"
    }
   },
   "outputs": [],
   "source": [
    "def segment_data(data_file):\n",
    "    try:\n",
    "        import pandas as pd\n",
    "    except ImportError:\n",
    "        raise\n",
    "    \n",
    "    data = pd.read_csv(data_file, encoding='latin-1').sample(frac=1).drop_duplicates()\n",
    "    data = data[['classes', 'title']].rename(columns={\"classes\":\"label\", \"title\":\"text\"})\n",
    "    data['label'] = '__label__' +data['label'].astype(str)\n",
    "    data['text'] = data['text'].apply(lambda k: k.lower().strip())\n",
    "    data.to_csv('./data/whole.csv', sep='\\t', index = False, header = False)\n",
    "    data.iloc[0:int(len(data)*0.8)].to_csv('./data/train.csv', sep='\\t', index = False, header = False)\n",
    "    data.iloc[int(len(data)*0.8):int(len(data)*0.9)].to_csv('./data/test.csv', sep='\\t', index = False, header = False)\n",
    "    data.iloc[int(len(data)*0.9):].to_csv('./data/dev.csv', sep='\\t', index = False, header = False)\n",
    "    return"
   ]
  },
  {
   "cell_type": "code",
   "execution_count": 3,
   "id": "b70dd320-1f48-4a3c-a262-b8251eb19ffd",
   "metadata": {
    "execution": {
     "iopub.execute_input": "2022-10-06T01:38:01.361651Z",
     "iopub.status.busy": "2022-10-06T01:38:01.361029Z",
     "iopub.status.idle": "2022-10-06T01:38:07.304405Z",
     "shell.execute_reply": "2022-10-06T01:38:07.303746Z",
     "shell.execute_reply.started": "2022-10-06T01:38:01.361626Z"
    }
   },
   "outputs": [],
   "source": [
    "def initialize_embeddings():\n",
    "    \"\"\"\n",
    "    Summary:\n",
    "        Stacks the list of pre-trained embedding vectors to be used as word representation (in concat.)\n",
    "    Return:\n",
    "        list: Returns list of pretrained embeddings vectors\n",
    "    \"\"\"\n",
    "    word_embeddings = [\n",
    "\t\t\tWordEmbeddings('glove'),\n",
    "\t\t\tFlairEmbeddings('news-forward'),\n",
    "\t\t\tFlairEmbeddings('news-backward')\n",
    "\t\t]\n",
    "    return word_embeddings\n",
    " \n",
    "word_embeddings = initialize_embeddings()"
   ]
  },
  {
   "cell_type": "code",
   "execution_count": null,
   "id": "b7ad2169-db95-4ee7-942a-c1a96a2ae1f9",
   "metadata": {
    "execution": {
     "iopub.execute_input": "2022-10-06T01:34:52.019341Z",
     "iopub.status.busy": "2022-10-06T01:34:52.019069Z"
    }
   },
   "outputs": [
    {
     "name": "stdout",
     "output_type": "stream",
     "text": [
      "2022-10-06 01:34:52,115 https://raw.githubusercontent.com/UniversalDependencies/UD_English-EWT/master/en_ewt-ud-dev.conllu not found in cache, downloading to /tmp/tmplavk_8ha\n"
     ]
    },
    {
     "name": "stderr",
     "output_type": "stream",
     "text": [
      "1738438B [00:00, 108837039.44B/s]        "
     ]
    },
    {
     "name": "stdout",
     "output_type": "stream",
     "text": [
      "2022-10-06 01:34:52,149 copying /tmp/tmplavk_8ha to cache at /root/.flair/datasets/ud_english/en_ewt-ud-dev.conllu\n",
      "2022-10-06 01:34:52,151 removing temp file /tmp/tmplavk_8ha\n",
      "2022-10-06 01:34:52,248 https://raw.githubusercontent.com/UniversalDependencies/UD_English-EWT/master/en_ewt-ud-test.conllu not found in cache, downloading to /tmp/tmpzkxkpi_b\n"
     ]
    },
    {
     "name": "stderr",
     "output_type": "stream",
     "text": [
      "\n",
      "1738935B [00:00, 74259525.00B/s]         "
     ]
    },
    {
     "name": "stdout",
     "output_type": "stream",
     "text": [
      "2022-10-06 01:34:52,303 copying /tmp/tmpzkxkpi_b to cache at /root/.flair/datasets/ud_english/en_ewt-ud-test.conllu\n",
      "2022-10-06 01:34:52,305 removing temp file /tmp/tmpzkxkpi_b\n"
     ]
    },
    {
     "name": "stderr",
     "output_type": "stream",
     "text": [
      "\n"
     ]
    },
    {
     "name": "stdout",
     "output_type": "stream",
     "text": [
      "2022-10-06 01:34:52,403 https://raw.githubusercontent.com/UniversalDependencies/UD_English-EWT/master/en_ewt-ud-train.conllu not found in cache, downloading to /tmp/tmpx4kzj3tt\n"
     ]
    },
    {
     "name": "stderr",
     "output_type": "stream",
     "text": [
      "13686411B [00:00, 130812490.38B/s]        "
     ]
    },
    {
     "name": "stdout",
     "output_type": "stream",
     "text": [
      "2022-10-06 01:34:52,529 copying /tmp/tmpx4kzj3tt to cache at /root/.flair/datasets/ud_english/en_ewt-ud-train.conllu\n",
      "2022-10-06 01:34:52,539 removing temp file /tmp/tmpx4kzj3tt\n",
      "2022-10-06 01:34:52,541 Reading data from /root/.flair/datasets/ud_english\n",
      "2022-10-06 01:34:52,542 Train: /root/.flair/datasets/ud_english/en_ewt-ud-train.conllu\n",
      "2022-10-06 01:34:52,542 Dev: /root/.flair/datasets/ud_english/en_ewt-ud-dev.conllu\n",
      "2022-10-06 01:34:52,543 Test: /root/.flair/datasets/ud_english/en_ewt-ud-test.conllu\n"
     ]
    },
    {
     "name": "stderr",
     "output_type": "stream",
     "text": [
      "\n"
     ]
    },
    {
     "name": "stdout",
     "output_type": "stream",
     "text": [
      "2022-10-06 01:35:03,813 Computing label dictionary. Progress:\n"
     ]
    },
    {
     "name": "stderr",
     "output_type": "stream",
     "text": [
      "12543it [00:00, 31560.54it/s]"
     ]
    },
    {
     "name": "stdout",
     "output_type": "stream",
     "text": [
      "2022-10-06 01:35:04,213 Dictionary created for label 'upos' with 18 values: NOUN (seen 34761 times), PUNCT (seen 23620 times), VERB (seen 22946 times), PRON (seen 18589 times), ADP (seen 17730 times), DET (seen 16314 times), ADJ (seen 13167 times), AUX (seen 12440 times), PROPN (seen 12345 times), ADV (seen 9462 times), CCONJ (seen 6690 times), PART (seen 5745 times), SCONJ (seen 4554 times), NUM (seen 4119 times), X (seen 704 times), SYM (seen 698 times), INTJ (seen 694 times)\n"
     ]
    },
    {
     "name": "stderr",
     "output_type": "stream",
     "text": [
      "\n"
     ]
    },
    {
     "name": "stdout",
     "output_type": "stream",
     "text": [
      "2022-10-06 01:35:04,525 ----------------------------------------------------------------------------------------------------\n",
      "2022-10-06 01:35:04,623 Model: \"TextClassifier(\n",
      "  (decoder): Linear(in_features=512, out_features=18, bias=True)\n",
      "  (dropout): Dropout(p=0.0, inplace=False)\n",
      "  (locked_dropout): LockedDropout(p=0.0)\n",
      "  (word_dropout): WordDropout(p=0.0)\n",
      "  (loss_function): CrossEntropyLoss()\n",
      "  (document_embeddings): DocumentRNNEmbeddings(\n",
      "    (embeddings): StackedEmbeddings(\n",
      "      (list_embedding_0): WordEmbeddings(\n",
      "        'glove'\n",
      "        (embedding): Embedding(400001, 100)\n",
      "      )\n",
      "      (list_embedding_1): FlairEmbeddings(\n",
      "        (lm): LanguageModel(\n",
      "          (drop): Dropout(p=0.05, inplace=False)\n",
      "          (encoder): Embedding(300, 100)\n",
      "          (rnn): LSTM(100, 2048)\n",
      "          (decoder): Linear(in_features=2048, out_features=300, bias=True)\n",
      "        )\n",
      "      )\n",
      "      (list_embedding_2): FlairEmbeddings(\n",
      "        (lm): LanguageModel(\n",
      "          (drop): Dropout(p=0.05, inplace=False)\n",
      "          (encoder): Embedding(300, 100)\n",
      "          (rnn): LSTM(100, 2048)\n",
      "          (decoder): Linear(in_features=2048, out_features=300, bias=True)\n",
      "        )\n",
      "      )\n",
      "    )\n",
      "    (word_reprojection_map): Linear(in_features=4196, out_features=256, bias=True)\n",
      "    (rnn): LSTM(256, 512, batch_first=True)\n",
      "    (dropout): Dropout(p=0.5, inplace=False)\n",
      "  )\n",
      "  (weights): None\n",
      "  (weight_tensor) None\n",
      ")\"\n",
      "2022-10-06 01:35:04,624 ----------------------------------------------------------------------------------------------------\n",
      "2022-10-06 01:35:04,624 Corpus: \"Corpus: 12543 train + 2001 dev + 2077 test sentences\"\n",
      "2022-10-06 01:35:04,625 ----------------------------------------------------------------------------------------------------\n",
      "2022-10-06 01:35:04,625 Parameters:\n",
      "2022-10-06 01:35:04,626  - learning_rate: \"0.100000\"\n",
      "2022-10-06 01:35:04,626  - mini_batch_size: \"64\"\n",
      "2022-10-06 01:35:04,626  - patience: \"5\"\n",
      "2022-10-06 01:35:04,627  - anneal_factor: \"0.5\"\n",
      "2022-10-06 01:35:04,627  - max_epochs: \"20\"\n",
      "2022-10-06 01:35:04,627  - shuffle: \"True\"\n",
      "2022-10-06 01:35:04,628  - train_with_dev: \"False\"\n",
      "2022-10-06 01:35:04,628  - batch_growth_annealing: \"False\"\n",
      "2022-10-06 01:35:04,628 ----------------------------------------------------------------------------------------------------\n",
      "2022-10-06 01:35:04,629 Model training base path: \"model\"\n",
      "2022-10-06 01:35:04,629 ----------------------------------------------------------------------------------------------------\n",
      "2022-10-06 01:35:04,629 Device: cuda:0\n",
      "2022-10-06 01:35:04,630 ----------------------------------------------------------------------------------------------------\n",
      "2022-10-06 01:35:04,631 Embeddings storage mode: cpu\n",
      "2022-10-06 01:35:04,631 ----------------------------------------------------------------------------------------------------\n",
      "2022-10-06 01:35:08,907 epoch 1 - iter 19/196 - loss 0.04189830 - samples/sec: 284.58 - lr: 0.100000\n",
      "2022-10-06 01:35:11,914 epoch 1 - iter 38/196 - loss 0.04011607 - samples/sec: 404.60 - lr: 0.100000\n",
      "2022-10-06 01:35:14,772 epoch 1 - iter 57/196 - loss 0.03893410 - samples/sec: 425.81 - lr: 0.100000\n",
      "2022-10-06 01:35:19,165 epoch 1 - iter 76/196 - loss 0.03845890 - samples/sec: 276.97 - lr: 0.100000\n",
      "2022-10-06 01:35:22,160 epoch 1 - iter 95/196 - loss 0.03821277 - samples/sec: 406.34 - lr: 0.100000\n",
      "2022-10-06 01:35:26,191 epoch 1 - iter 114/196 - loss 0.03851287 - samples/sec: 301.78 - lr: 0.100000\n",
      "2022-10-06 01:35:29,229 epoch 1 - iter 133/196 - loss 0.03835429 - samples/sec: 400.65 - lr: 0.100000\n",
      "2022-10-06 01:35:32,387 epoch 1 - iter 152/196 - loss 0.03790394 - samples/sec: 385.26 - lr: 0.100000\n",
      "2022-10-06 01:35:35,121 epoch 1 - iter 171/196 - loss 0.03730502 - samples/sec: 445.20 - lr: 0.100000\n",
      "2022-10-06 01:35:38,197 epoch 1 - iter 190/196 - loss 0.03667107 - samples/sec: 395.57 - lr: 0.100000\n",
      "2022-10-06 01:35:39,316 ----------------------------------------------------------------------------------------------------\n",
      "2022-10-06 01:35:39,317 EPOCH 1 done: loss 0.0365 - lr 0.100000\n"
     ]
    },
    {
     "name": "stderr",
     "output_type": "stream",
     "text": [
      "100%|██████████| 32/32 [00:04<00:00,  7.45it/s]\n"
     ]
    },
    {
     "name": "stdout",
     "output_type": "stream",
     "text": [
      "2022-10-06 01:35:43,865 Evaluating as a multi-label problem: False\n",
      "2022-10-06 01:35:43,983 DEV : loss 0.03687284141778946 - f1-score (micro avg)  0.0\n",
      "2022-10-06 01:35:44,104 BAD EPOCHS (no improvement): 0\n",
      "2022-10-06 01:35:44,106 ----------------------------------------------------------------------------------------------------\n",
      "2022-10-06 01:35:45,416 epoch 2 - iter 19/196 - loss 0.03538036 - samples/sec: 930.34 - lr: 0.100000\n",
      "2022-10-06 01:35:46,652 epoch 2 - iter 38/196 - loss 0.03549523 - samples/sec: 985.66 - lr: 0.100000\n",
      "2022-10-06 01:35:47,929 epoch 2 - iter 57/196 - loss 0.03511959 - samples/sec: 954.20 - lr: 0.100000\n",
      "2022-10-06 01:35:49,247 epoch 2 - iter 76/196 - loss 0.03482265 - samples/sec: 923.55 - lr: 0.100000\n",
      "2022-10-06 01:35:50,598 epoch 2 - iter 95/196 - loss 0.03456914 - samples/sec: 901.93 - lr: 0.100000\n",
      "2022-10-06 01:35:51,857 epoch 2 - iter 114/196 - loss 0.03440604 - samples/sec: 967.22 - lr: 0.100000\n",
      "2022-10-06 01:35:53,093 epoch 2 - iter 133/196 - loss 0.03429404 - samples/sec: 985.71 - lr: 0.100000\n",
      "2022-10-06 01:35:54,340 epoch 2 - iter 152/196 - loss 0.03412217 - samples/sec: 976.77 - lr: 0.100000\n",
      "2022-10-06 01:35:55,627 epoch 2 - iter 171/196 - loss 0.03406020 - samples/sec: 947.08 - lr: 0.100000\n",
      "2022-10-06 01:35:56,900 epoch 2 - iter 190/196 - loss 0.03396044 - samples/sec: 956.95 - lr: 0.100000\n",
      "2022-10-06 01:35:57,284 ----------------------------------------------------------------------------------------------------\n",
      "2022-10-06 01:35:57,285 EPOCH 2 done: loss 0.0339 - lr 0.100000\n"
     ]
    },
    {
     "name": "stderr",
     "output_type": "stream",
     "text": [
      "100%|██████████| 32/32 [00:01<00:00, 18.94it/s]\n"
     ]
    },
    {
     "name": "stdout",
     "output_type": "stream",
     "text": [
      "2022-10-06 01:35:59,169 Evaluating as a multi-label problem: False\n",
      "2022-10-06 01:35:59,284 DEV : loss 0.0336775965988636 - f1-score (micro avg)  0.0\n",
      "2022-10-06 01:35:59,410 BAD EPOCHS (no improvement): 0\n",
      "2022-10-06 01:35:59,412 ----------------------------------------------------------------------------------------------------\n",
      "2022-10-06 01:36:00,716 epoch 3 - iter 19/196 - loss 0.03270931 - samples/sec: 934.73 - lr: 0.100000\n",
      "2022-10-06 01:36:02,056 epoch 3 - iter 38/196 - loss 0.03219619 - samples/sec: 908.87 - lr: 0.100000\n",
      "2022-10-06 01:36:03,352 epoch 3 - iter 57/196 - loss 0.03242623 - samples/sec: 940.44 - lr: 0.100000\n",
      "2022-10-06 01:36:04,618 epoch 3 - iter 76/196 - loss 0.03231119 - samples/sec: 962.21 - lr: 0.100000\n",
      "2022-10-06 01:36:05,914 epoch 3 - iter 95/196 - loss 0.03228811 - samples/sec: 939.83 - lr: 0.100000\n",
      "2022-10-06 01:36:07,233 epoch 3 - iter 114/196 - loss 0.03212000 - samples/sec: 923.95 - lr: 0.100000\n",
      "2022-10-06 01:36:08,541 epoch 3 - iter 133/196 - loss 0.03221477 - samples/sec: 930.93 - lr: 0.100000\n",
      "2022-10-06 01:36:09,825 epoch 3 - iter 152/196 - loss 0.03207000 - samples/sec: 948.71 - lr: 0.100000\n",
      "2022-10-06 01:36:11,148 epoch 3 - iter 171/196 - loss 0.03198906 - samples/sec: 920.88 - lr: 0.100000\n",
      "2022-10-06 01:36:12,459 epoch 3 - iter 190/196 - loss 0.03185993 - samples/sec: 929.32 - lr: 0.100000\n",
      "2022-10-06 01:36:12,878 ----------------------------------------------------------------------------------------------------\n",
      "2022-10-06 01:36:12,879 EPOCH 3 done: loss 0.0319 - lr 0.100000\n"
     ]
    },
    {
     "name": "stderr",
     "output_type": "stream",
     "text": [
      "100%|██████████| 32/32 [00:01<00:00, 20.00it/s]\n"
     ]
    },
    {
     "name": "stdout",
     "output_type": "stream",
     "text": [
      "2022-10-06 01:36:14,880 Evaluating as a multi-label problem: False\n",
      "2022-10-06 01:36:14,988 DEV : loss 0.03132303059101105 - f1-score (micro avg)  0.0\n",
      "2022-10-06 01:36:15,108 BAD EPOCHS (no improvement): 0\n",
      "2022-10-06 01:36:15,109 ----------------------------------------------------------------------------------------------------\n",
      "2022-10-06 01:36:16,433 epoch 4 - iter 19/196 - loss 0.03072634 - samples/sec: 920.39 - lr: 0.100000\n",
      "2022-10-06 01:36:17,746 epoch 4 - iter 38/196 - loss 0.03095300 - samples/sec: 928.12 - lr: 0.100000\n",
      "2022-10-06 01:36:19,076 epoch 4 - iter 57/196 - loss 0.03107124 - samples/sec: 915.63 - lr: 0.100000\n",
      "2022-10-06 01:36:20,380 epoch 4 - iter 76/196 - loss 0.03114262 - samples/sec: 934.63 - lr: 0.100000\n",
      "2022-10-06 01:36:21,650 epoch 4 - iter 95/196 - loss 0.03104533 - samples/sec: 958.97 - lr: 0.100000\n",
      "2022-10-06 01:36:22,940 epoch 4 - iter 114/196 - loss 0.03089644 - samples/sec: 944.76 - lr: 0.100000\n",
      "2022-10-06 01:36:24,246 epoch 4 - iter 133/196 - loss 0.03081091 - samples/sec: 933.11 - lr: 0.100000\n",
      "2022-10-06 01:36:25,570 epoch 4 - iter 152/196 - loss 0.03055973 - samples/sec: 920.02 - lr: 0.100000\n",
      "2022-10-06 01:36:26,850 epoch 4 - iter 171/196 - loss 0.03040836 - samples/sec: 951.96 - lr: 0.100000\n",
      "2022-10-06 01:36:28,184 epoch 4 - iter 190/196 - loss 0.03037830 - samples/sec: 912.92 - lr: 0.100000\n",
      "2022-10-06 01:36:28,600 ----------------------------------------------------------------------------------------------------\n",
      "2022-10-06 01:36:28,601 EPOCH 4 done: loss 0.0304 - lr 0.100000\n"
     ]
    },
    {
     "name": "stderr",
     "output_type": "stream",
     "text": [
      "100%|██████████| 32/32 [00:01<00:00, 19.54it/s]\n"
     ]
    },
    {
     "name": "stdout",
     "output_type": "stream",
     "text": [
      "2022-10-06 01:36:30,467 Evaluating as a multi-label problem: False\n",
      "2022-10-06 01:36:30,577 DEV : loss 0.029220497235655785 - f1-score (micro avg)  0.0\n",
      "2022-10-06 01:36:30,696 BAD EPOCHS (no improvement): 0\n",
      "2022-10-06 01:36:30,698 ----------------------------------------------------------------------------------------------------\n",
      "2022-10-06 01:36:31,957 epoch 5 - iter 19/196 - loss 0.02973221 - samples/sec: 967.55 - lr: 0.100000\n",
      "2022-10-06 01:36:33,230 epoch 5 - iter 38/196 - loss 0.02945966 - samples/sec: 957.38 - lr: 0.100000\n",
      "2022-10-06 01:36:34,499 epoch 5 - iter 57/196 - loss 0.02918639 - samples/sec: 960.08 - lr: 0.100000\n",
      "2022-10-06 01:36:35,777 epoch 5 - iter 76/196 - loss 0.02936975 - samples/sec: 952.95 - lr: 0.100000\n",
      "2022-10-06 01:36:37,040 epoch 5 - iter 95/196 - loss 0.02931810 - samples/sec: 964.67 - lr: 0.100000\n",
      "2022-10-06 01:36:38,365 epoch 5 - iter 114/196 - loss 0.02914773 - samples/sec: 919.54 - lr: 0.100000\n",
      "2022-10-06 01:36:39,628 epoch 5 - iter 133/196 - loss 0.02911345 - samples/sec: 964.26 - lr: 0.100000\n",
      "2022-10-06 01:36:40,957 epoch 5 - iter 152/196 - loss 0.02914073 - samples/sec: 916.51 - lr: 0.100000\n",
      "2022-10-06 01:36:42,244 epoch 5 - iter 171/196 - loss 0.02900079 - samples/sec: 946.55 - lr: 0.100000\n",
      "2022-10-06 01:36:43,494 epoch 5 - iter 190/196 - loss 0.02898945 - samples/sec: 974.54 - lr: 0.100000\n",
      "2022-10-06 01:36:43,918 ----------------------------------------------------------------------------------------------------\n",
      "2022-10-06 01:36:43,919 EPOCH 5 done: loss 0.0290 - lr 0.100000\n"
     ]
    },
    {
     "name": "stderr",
     "output_type": "stream",
     "text": [
      "100%|██████████| 32/32 [00:01<00:00, 19.59it/s]\n"
     ]
    },
    {
     "name": "stdout",
     "output_type": "stream",
     "text": [
      "2022-10-06 01:36:45,964 Evaluating as a multi-label problem: False\n",
      "2022-10-06 01:36:46,080 DEV : loss 0.026699304580688477 - f1-score (micro avg)  0.0\n",
      "2022-10-06 01:36:46,208 BAD EPOCHS (no improvement): 0\n",
      "2022-10-06 01:36:46,211 ----------------------------------------------------------------------------------------------------\n",
      "2022-10-06 01:36:47,527 epoch 6 - iter 19/196 - loss 0.02762813 - samples/sec: 926.17 - lr: 0.100000\n",
      "2022-10-06 01:36:48,818 epoch 6 - iter 38/196 - loss 0.02729154 - samples/sec: 943.75 - lr: 0.100000\n",
      "2022-10-06 01:36:50,074 epoch 6 - iter 57/196 - loss 0.02734169 - samples/sec: 969.83 - lr: 0.100000\n",
      "2022-10-06 01:36:51,391 epoch 6 - iter 76/196 - loss 0.02727860 - samples/sec: 925.33 - lr: 0.100000\n",
      "2022-10-06 01:36:52,777 epoch 6 - iter 95/196 - loss 0.02692910 - samples/sec: 879.16 - lr: 0.100000\n",
      "2022-10-06 01:36:54,073 epoch 6 - iter 114/196 - loss 0.02686944 - samples/sec: 939.68 - lr: 0.100000\n",
      "2022-10-06 01:36:55,368 epoch 6 - iter 133/196 - loss 0.02677339 - samples/sec: 940.56 - lr: 0.100000\n",
      "2022-10-06 01:36:56,687 epoch 6 - iter 152/196 - loss 0.02669335 - samples/sec: 923.68 - lr: 0.100000\n",
      "2022-10-06 01:36:58,015 epoch 6 - iter 171/196 - loss 0.02650034 - samples/sec: 918.06 - lr: 0.100000\n",
      "2022-10-06 01:36:59,306 epoch 6 - iter 190/196 - loss 0.02626599 - samples/sec: 943.13 - lr: 0.100000\n",
      "2022-10-06 01:36:59,728 ----------------------------------------------------------------------------------------------------\n",
      "2022-10-06 01:36:59,729 EPOCH 6 done: loss 0.0262 - lr 0.100000\n"
     ]
    },
    {
     "name": "stderr",
     "output_type": "stream",
     "text": [
      "100%|██████████| 32/32 [00:01<00:00, 19.60it/s]\n"
     ]
    },
    {
     "name": "stdout",
     "output_type": "stream",
     "text": [
      "2022-10-06 01:37:01,817 Evaluating as a multi-label problem: False\n",
      "2022-10-06 01:37:01,931 DEV : loss 0.024091824889183044 - f1-score (micro avg)  0.0\n",
      "2022-10-06 01:37:02,054 BAD EPOCHS (no improvement): 0\n",
      "2022-10-06 01:37:02,056 ----------------------------------------------------------------------------------------------------\n",
      "2022-10-06 01:37:03,360 epoch 7 - iter 19/196 - loss 0.02513254 - samples/sec: 934.74 - lr: 0.100000\n",
      "2022-10-06 01:37:04,654 epoch 7 - iter 38/196 - loss 0.02516564 - samples/sec: 941.37 - lr: 0.100000\n",
      "2022-10-06 01:37:05,943 epoch 7 - iter 57/196 - loss 0.02462709 - samples/sec: 945.07 - lr: 0.100000\n",
      "2022-10-06 01:37:07,211 epoch 7 - iter 76/196 - loss 0.02474032 - samples/sec: 961.69 - lr: 0.100000\n",
      "2022-10-06 01:37:08,542 epoch 7 - iter 95/196 - loss 0.02473245 - samples/sec: 915.49 - lr: 0.100000\n",
      "2022-10-06 01:37:09,863 epoch 7 - iter 114/196 - loss 0.02454133 - samples/sec: 922.14 - lr: 0.100000\n",
      "2022-10-06 01:37:11,187 epoch 7 - iter 133/196 - loss 0.02445476 - samples/sec: 921.06 - lr: 0.100000\n",
      "2022-10-06 01:37:12,470 epoch 7 - iter 152/196 - loss 0.02450908 - samples/sec: 949.38 - lr: 0.100000\n",
      "2022-10-06 01:37:13,801 epoch 7 - iter 171/196 - loss 0.02437904 - samples/sec: 915.36 - lr: 0.100000\n",
      "2022-10-06 01:37:15,158 epoch 7 - iter 190/196 - loss 0.02417999 - samples/sec: 898.36 - lr: 0.100000\n",
      "2022-10-06 01:37:15,556 ----------------------------------------------------------------------------------------------------\n",
      "2022-10-06 01:37:15,557 EPOCH 7 done: loss 0.0241 - lr 0.100000\n"
     ]
    },
    {
     "name": "stderr",
     "output_type": "stream",
     "text": [
      "100%|██████████| 32/32 [00:01<00:00, 19.71it/s]\n"
     ]
    },
    {
     "name": "stdout",
     "output_type": "stream",
     "text": [
      "2022-10-06 01:37:17,470 Evaluating as a multi-label problem: False\n",
      "2022-10-06 01:37:17,581 DEV : loss 0.020406417548656464 - f1-score (micro avg)  0.0\n",
      "2022-10-06 01:37:17,707 BAD EPOCHS (no improvement): 0\n",
      "2022-10-06 01:37:17,709 ----------------------------------------------------------------------------------------------------\n",
      "2022-10-06 01:37:18,963 epoch 8 - iter 19/196 - loss 0.02169285 - samples/sec: 971.51 - lr: 0.100000\n",
      "2022-10-06 01:37:20,209 epoch 8 - iter 38/196 - loss 0.02178150 - samples/sec: 978.50 - lr: 0.100000\n",
      "2022-10-06 01:37:23,385 epoch 8 - iter 57/196 - loss 0.02229920 - samples/sec: 383.07 - lr: 0.100000\n",
      "2022-10-06 01:37:24,707 epoch 8 - iter 76/196 - loss 0.02255851 - samples/sec: 921.44 - lr: 0.100000\n",
      "2022-10-06 01:37:26,002 epoch 8 - iter 95/196 - loss 0.02236575 - samples/sec: 940.90 - lr: 0.100000\n",
      "2022-10-06 01:37:27,257 epoch 8 - iter 114/196 - loss 0.02221352 - samples/sec: 970.46 - lr: 0.100000\n",
      "2022-10-06 01:37:28,533 epoch 8 - iter 133/196 - loss 0.02212554 - samples/sec: 955.10 - lr: 0.100000\n",
      "2022-10-06 01:37:29,867 epoch 8 - iter 152/196 - loss 0.02178638 - samples/sec: 912.94 - lr: 0.100000\n",
      "2022-10-06 01:37:31,153 epoch 8 - iter 171/196 - loss 0.02155692 - samples/sec: 947.23 - lr: 0.100000\n",
      "2022-10-06 01:37:32,456 epoch 8 - iter 190/196 - loss 0.02144545 - samples/sec: 934.70 - lr: 0.100000\n",
      "2022-10-06 01:37:32,870 ----------------------------------------------------------------------------------------------------\n",
      "2022-10-06 01:37:32,870 EPOCH 8 done: loss 0.0214 - lr 0.100000\n"
     ]
    },
    {
     "name": "stderr",
     "output_type": "stream",
     "text": [
      "100%|██████████| 32/32 [00:01<00:00, 19.10it/s]\n"
     ]
    },
    {
     "name": "stdout",
     "output_type": "stream",
     "text": [
      "2022-10-06 01:37:34,837 Evaluating as a multi-label problem: False\n",
      "2022-10-06 01:37:34,948 DEV : loss 0.01813221164047718 - f1-score (micro avg)  0.0\n",
      "2022-10-06 01:37:35,067 BAD EPOCHS (no improvement): 0\n",
      "2022-10-06 01:37:35,070 ----------------------------------------------------------------------------------------------------\n",
      "2022-10-06 01:37:36,421 epoch 9 - iter 19/196 - loss 0.01861413 - samples/sec: 902.19 - lr: 0.100000\n",
      "2022-10-06 01:37:37,732 epoch 9 - iter 38/196 - loss 0.01965456 - samples/sec: 928.81 - lr: 0.100000\n",
      "2022-10-06 01:37:39,060 epoch 9 - iter 57/196 - loss 0.01955340 - samples/sec: 917.44 - lr: 0.100000\n",
      "2022-10-06 01:37:40,313 epoch 9 - iter 76/196 - loss 0.01944323 - samples/sec: 972.80 - lr: 0.100000\n",
      "2022-10-06 01:37:41,653 epoch 9 - iter 95/196 - loss 0.01903195 - samples/sec: 909.14 - lr: 0.100000\n",
      "2022-10-06 01:37:42,929 epoch 9 - iter 114/196 - loss 0.01893997 - samples/sec: 954.62 - lr: 0.100000\n",
      "2022-10-06 01:37:44,255 epoch 9 - iter 133/196 - loss 0.01881871 - samples/sec: 919.14 - lr: 0.100000\n",
      "2022-10-06 01:37:45,626 epoch 9 - iter 152/196 - loss 0.01852089 - samples/sec: 888.55 - lr: 0.100000\n",
      "2022-10-06 01:37:46,984 epoch 9 - iter 171/196 - loss 0.01839502 - samples/sec: 896.61 - lr: 0.100000\n",
      "2022-10-06 01:37:48,287 epoch 9 - iter 190/196 - loss 0.01818570 - samples/sec: 935.18 - lr: 0.100000\n",
      "2022-10-06 01:37:48,670 ----------------------------------------------------------------------------------------------------\n",
      "2022-10-06 01:37:48,670 EPOCH 9 done: loss 0.0182 - lr 0.100000\n"
     ]
    },
    {
     "name": "stderr",
     "output_type": "stream",
     "text": [
      "100%|██████████| 32/32 [00:01<00:00, 19.22it/s]\n"
     ]
    },
    {
     "name": "stdout",
     "output_type": "stream",
     "text": [
      "2022-10-06 01:37:50,525 Evaluating as a multi-label problem: False\n",
      "2022-10-06 01:37:50,641 DEV : loss 0.014614132232964039 - f1-score (micro avg)  0.0\n",
      "2022-10-06 01:37:50,768 BAD EPOCHS (no improvement): 0\n",
      "2022-10-06 01:37:50,872 ----------------------------------------------------------------------------------------------------\n",
      "2022-10-06 01:37:52,192 epoch 10 - iter 19/196 - loss 0.01594162 - samples/sec: 923.45 - lr: 0.100000\n"
     ]
    }
   ],
   "source": [
    "import flair.datasets\n",
    "corpus = flair.datasets.UD_ENGLISH()\n",
    "ll = corpus.make_label_dictionary(label_type = 'upos')\n",
    "document_embeddings = DocumentRNNEmbeddings(word_embeddings, hidden_size=512, reproject_words=True, reproject_words_dimension=256, rnn_type='LSTM', rnn_layers=1, bidirectional=False)\n",
    "\n",
    "classifier = TextClassifier(document_embeddings, label_dictionary=ll, multi_label=False, label_type = 'upos')\n",
    "\n",
    "trainer = ModelTrainer(classifier, corpus)\n",
    "\n",
    "trainer.train('./model', max_epochs=20, patience=5, mini_batch_size=32, learning_rate=0.1)"
   ]
  },
  {
   "cell_type": "code",
   "execution_count": 4,
   "id": "e1978283-64dc-48b2-8193-f5a24d5c9eab",
   "metadata": {
    "execution": {
     "iopub.execute_input": "2022-10-06T01:38:14.247418Z",
     "iopub.status.busy": "2022-10-06T01:38:14.246643Z",
     "iopub.status.idle": "2022-10-06T01:38:15.407872Z",
     "shell.execute_reply": "2022-10-06T01:38:15.407227Z",
     "shell.execute_reply.started": "2022-10-06T01:38:14.247395Z"
    }
   },
   "outputs": [
    {
     "name": "stdout",
     "output_type": "stream",
     "text": [
      "2022-10-06 01:38:14,249 loading file ./model/final-model.pt\n"
     ]
    }
   ],
   "source": [
    "from flair.models import TextClassifier\n",
    "from flair.data import Sentence\n",
    "classifier = TextClassifier.load('./model/final-model.pt')\n",
    "\n",
    "mapping = {\n",
    "    'sad': '&#x1F61E',\n",
    "    'smile': '&#x1F600',\n",
    "    'food': '&#x1F37D',\n",
    "    'heart': '&#10084;',\n",
    "    'baseball': '&#x26be;'\n",
    "}\n",
    "\n",
    "\n",
    "def emoji(text):\n",
    "        data = text\n",
    "        if not len(data.strip()):\n",
    "            return ''\n",
    "        sentence = Sentence(data)\n",
    "        classifier.predict(sentence)\n",
    "        print (str(sentence.labels))\n",
    "        if 'sad'in str(sentence.labels):\n",
    "            return mapping['sad'] \n",
    "        elif 'smile' in str(sentence.labels):\n",
    "            return mapping['smile'] \n",
    "        elif 'food' in str(sentence.labels):\n",
    "            return mapping['food']\n",
    "        elif 'heart' in str(sentence.labels):\n",
    "            print (1)\n",
    "            return mapping['heart']\n",
    "        elif 'baseball' in str(sentence.labels):\n",
    "            return mapping['baseball']"
   ]
  },
  {
   "cell_type": "code",
   "execution_count": null,
   "id": "b8698a3e-b647-47c3-b141-a2fda1195781",
   "metadata": {
    "execution": {
     "iopub.execute_input": "2022-10-06T01:38:56.231666Z",
     "iopub.status.busy": "2022-10-06T01:38:56.231066Z",
     "iopub.status.idle": "2022-10-06T01:38:56.289244Z",
     "shell.execute_reply": "2022-10-06T01:38:56.288579Z",
     "shell.execute_reply.started": "2022-10-06T01:38:56.231644Z"
    }
   },
   "outputs": [
    {
     "name": "stdout",
     "output_type": "stream",
     "text": [
      "['Sentence: \"i ran home so quickly and smiled the whole way !\"'/'PRON' (0.9784)]\n",
      "&#x1F600\n",
      "['Sentence: \"the sad little boy walked home alone in the heavy rain .\"'/'DET' (0.635)]\n",
      "&#x1F61E\n"
     ]
    }
   ],
   "source": [
    "print(emoji('i ran home so quickly and smiled the whole way!'))\n",
    "print(emoji('the sad little boy walked home alone in the heavy rain.'))\n"
   ]
  },
  {
   "cell_type": "code",
   "execution_count": null,
   "id": "1e5b5d97-ca05-4473-84da-d4f9dc81548d",
   "metadata": {},
   "outputs": [],
   "source": []
  }
 ],
 "metadata": {
  "kernelspec": {
   "display_name": "Python 3 (ipykernel)",
   "language": "python",
   "name": "python3"
  },
  "language_info": {
   "codemirror_mode": {
    "name": "ipython",
    "version": 3
   },
   "file_extension": ".py",
   "mimetype": "text/x-python",
   "name": "python",
   "nbconvert_exporter": "python",
   "pygments_lexer": "ipython3",
   "version": "3.9.13"
  }
 },
 "nbformat": 4,
 "nbformat_minor": 5
}
